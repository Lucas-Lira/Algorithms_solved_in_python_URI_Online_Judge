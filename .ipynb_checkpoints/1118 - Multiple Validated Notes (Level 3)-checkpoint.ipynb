{
 "cells": [
  {
   "cell_type": "code",
   "execution_count": null,
   "metadata": {},
   "outputs": [],
   "source": [
    "try:\n",
    "    \n",
    "    x = 1\n",
    "    \n",
    "    while x == 1:\n",
    "    \n",
    "        nota1 = -1\n",
    "        nota2 = -1\n",
    "    \n",
    "        nota = float(input())\n",
    "        \n",
    "        while nota1 == -1 or nota2 == -1: \n",
    "            if nota >= 0 and nota <= 10:\n",
    "                if nota1 == -1:\n",
    "                    nota1 = nota\n",
    "                    nota = float(input())\n",
    "                else:\n",
    "                    nota2 = nota\n",
    "            else:\n",
    "                print('nota invalida')\n",
    "                nota = float(input())\n",
    "            \n",
    "        print('media = %.2f' % ((nota1+nota2)/2))\n",
    "        print('novo calculo (1-sim 2-nao)')\n",
    "        \n",
    "        x = int(input())\n",
    "        \n",
    "        while x != 1 and x != 2:\n",
    "            print('novo calculo (1-sim 2-nao)')\n",
    "            x = int(input())\n",
    "    \n",
    "except:\n",
    "    print('Application error')"
   ]
  }
 ],
 "metadata": {
  "kernelspec": {
   "display_name": "Python 3",
   "language": "python",
   "name": "python3"
  },
  "language_info": {
   "codemirror_mode": {
    "name": "ipython",
    "version": 3
   },
   "file_extension": ".py",
   "mimetype": "text/x-python",
   "name": "python",
   "nbconvert_exporter": "python",
   "pygments_lexer": "ipython3",
   "version": "3.8.3"
  }
 },
 "nbformat": 4,
 "nbformat_minor": 4
}

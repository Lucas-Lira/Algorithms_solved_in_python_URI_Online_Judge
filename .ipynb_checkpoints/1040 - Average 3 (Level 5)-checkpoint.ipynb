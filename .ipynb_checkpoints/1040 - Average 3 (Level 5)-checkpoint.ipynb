{
 "cells": [
  {
   "cell_type": "code",
   "execution_count": null,
   "metadata": {},
   "outputs": [],
   "source": [
    "try:\n",
    "    \n",
    "    n1, n2, n3, n4 = input().split()\n",
    "    \n",
    "    n1 = round(float(n1), 1)\n",
    "    n2 = round(float(n2), 1)\n",
    "    n3 = round(float(n3), 1)\n",
    "    n4 = round(float(n4), 1)\n",
    "    \n",
    "    media = (n1 * 2 + n2 * 3 + n3 * 4 + n4 * 1) / 10\n",
    "    \n",
    "    print('Media: %.1f' % media)\n",
    "    \n",
    "    if media >= 7.0:\n",
    "        print('Aluno aprovado.')\n",
    "    elif media < 5.0:\n",
    "        print('Aluno reprovado.')\n",
    "    elif media >= 5.0 and media <= 6.9:\n",
    "        \n",
    "        print('Aluno em exame.')\n",
    "        \n",
    "        exame = input()\n",
    "        exame = round(float(exame), 1)\n",
    "        \n",
    "        print('Nota do exame: %.1f' % exame)\n",
    "        \n",
    "        media = (media + exame) / 2\n",
    "        \n",
    "        if media >= 5.0:\n",
    "            print('Aluno aprovado.')\n",
    "        elif media <= 4.9:\n",
    "            print('Aluno reprovado.')\n",
    "        print('Media final: %.1f' % media)\n",
    "    \n",
    "except:\n",
    "    print('Invalid values')"
   ]
  }
 ],
 "metadata": {
  "kernelspec": {
   "display_name": "Python 3",
   "language": "python",
   "name": "python3"
  },
  "language_info": {
   "codemirror_mode": {
    "name": "ipython",
    "version": 3
   },
   "file_extension": ".py",
   "mimetype": "text/x-python",
   "name": "python",
   "nbconvert_exporter": "python",
   "pygments_lexer": "ipython3",
   "version": "3.8.5"
  }
 },
 "nbformat": 4,
 "nbformat_minor": 4
}

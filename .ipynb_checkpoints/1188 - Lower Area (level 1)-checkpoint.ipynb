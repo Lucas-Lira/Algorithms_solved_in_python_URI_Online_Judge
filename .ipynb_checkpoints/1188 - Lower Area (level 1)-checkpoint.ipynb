{
 "cells": [
  {
   "cell_type": "markdown",
   "metadata": {},
   "source": [
    "# With Numpy"
   ]
  },
  {
   "cell_type": "code",
   "execution_count": 24,
   "metadata": {},
   "outputs": [
    {
     "name": "stdout",
     "output_type": "stream",
     "text": [
      "\n",
      "\n",
      "\n",
      "[498.02830298 981.25197598]\n",
      "[294.97902053 170.98980395 210.10642881  33.49754966]\n",
      "[340.05144334  35.79314434 835.66504814 875.76070878 184.10810658\n",
      " 957.27522082]\n",
      "[919.33078575 727.02256529 181.26872058 141.531344   932.31187765\n",
      " 781.19296944  85.88526263 555.34899837]\n",
      "[658.08190859 238.11267984  52.06070165 904.35246801 223.43875239\n",
      " 586.5530989  191.48792537 487.01152505 513.38047702  26.61799456]\n",
      "\n",
      "\n",
      "\n",
      "[498.02830298 981.25197598 294.97902053 170.98980395 210.10642881\n",
      "  33.49754966 340.05144334  35.79314434 835.66504814 875.76070878\n",
      " 184.10810658 957.27522082 919.33078575 727.02256529 181.26872058\n",
      " 141.531344   932.31187765 781.19296944  85.88526263 555.34899837\n",
      " 658.08190859 238.11267984  52.06070165 904.35246801 223.43875239\n",
      " 586.5530989  191.48792537 487.01152505 513.38047702  26.61799456]\n",
      "\n",
      "\n",
      "\n"
     ]
    }
   ],
   "source": [
    "import numpy as np\n",
    "\n",
    "#c = input().upper()\n",
    "\n",
    "mat = np.random.uniform(1., 1000., (12, 12))\n",
    "\n",
    "#print(mat)\n",
    "#print('\\n\\n')\n",
    "\n",
    "mat = np.tril(mat, -1)\n",
    "\n",
    "#print(mat)\n",
    "#print('\\n\\n')\n",
    "\n",
    "\n",
    "mat = np.fliplr(mat)\n",
    "\n",
    "#print(mat)\n",
    "#print('\\n\\n')\n",
    "\n",
    "\n",
    "mat = np.tril(mat, -1)\n",
    "\n",
    "#print(mat)\n",
    "#print('\\n\\n')\n",
    "\n",
    "\n",
    "# ========================================================\n",
    "\n",
    "print('\\n\\n')\n",
    "\n",
    "starting_position = 5\n",
    "final_position    = 7\n",
    "\n",
    "for line in range(7, 12):    \n",
    "    print(mat[line][starting_position:final_position])\n",
    "    starting_position -= 1\n",
    "    final_position += 1\n",
    "\n",
    "print('\\n\\n')  \n",
    "    \n",
    "# ========================================================\n",
    "\n",
    "mat = mat[mat > 0]\n",
    "\n",
    "print(mat)\n",
    "print('\\n\\n')\n",
    "\n",
    "#mat = np.triu(mat, 1)\n",
    "\n",
    "#mat = mat[mat > 0]\n",
    "\n",
    "#soma = mat.sum()\n",
    "\n",
    "#if c == 'S':\n",
    "#    print('%.1f' % soma)\n",
    "#elif c == 'M':\n",
    "#    print('%.1f' % (soma / len(mat)))"
   ]
  },
  {
   "cell_type": "markdown",
   "metadata": {},
   "source": [
    "# URI Solution"
   ]
  },
  {
   "cell_type": "code",
   "execution_count": null,
   "metadata": {},
   "outputs": [],
   "source": [
    "try:\n",
    "\n",
    "    operation = input().upper()\n",
    "    \n",
    "    m = []\n",
    "\n",
    "    for line in range(12):\n",
    "        m.append([])\n",
    "        for column in range(12):\n",
    "            m[line].append(float(input()))\n",
    "\n",
    "    accumulator = 0\n",
    "    number_of_elements = 0\n",
    "    \n",
    "    starting_position = 5\n",
    "    final_position    = 7\n",
    "    \n",
    "    for line in range(7, 12):    \n",
    "        accumulator += sum(m[line][starting_position:final_position])\n",
    "        number_of_elements += len(m[line][starting_position:final_position])\n",
    "        starting_position -= 1\n",
    "        final_position += 1\n",
    "    \n",
    "    if operation == 'S':\n",
    "        print('%.1f' % accumulator)\n",
    "    elif operation == 'M':\n",
    "        print('%.1f' % (accumulator / number_of_elements))\n",
    "    \n",
    "except:\n",
    "    print('Application error')"
   ]
  }
 ],
 "metadata": {
  "kernelspec": {
   "display_name": "Python 3",
   "language": "python",
   "name": "python3"
  },
  "language_info": {
   "codemirror_mode": {
    "name": "ipython",
    "version": 3
   },
   "file_extension": ".py",
   "mimetype": "text/x-python",
   "name": "python",
   "nbconvert_exporter": "python",
   "pygments_lexer": "ipython3",
   "version": "3.8.5"
  }
 },
 "nbformat": 4,
 "nbformat_minor": 4
}

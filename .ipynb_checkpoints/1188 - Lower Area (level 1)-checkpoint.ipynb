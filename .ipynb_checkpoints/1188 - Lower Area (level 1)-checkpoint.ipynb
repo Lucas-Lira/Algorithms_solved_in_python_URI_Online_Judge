{
 "cells": [
  {
   "cell_type": "markdown",
   "metadata": {},
   "source": [
    "# With Numpy"
   ]
  },
  {
   "cell_type": "code",
   "execution_count": null,
   "metadata": {},
   "outputs": [],
   "source": [
    "import numpy as np\n",
    "\n",
    "c = input().upper()\n",
    "\n",
    "mat = np.random.uniform(1., 1000., (12, 12))\n",
    "\n",
    "mat = np.tril(mat, -1)\n",
    "mat = np.fliplr(mat)\n",
    "mat = np.tril(mat, -1)\n",
    "mat = mat[mat > 0]\n",
    "\n",
    "soma = mat.sum()\n",
    "\n",
    "if c == 'S':\n",
    "    print('%.1f' % soma)\n",
    "elif c == 'M':\n",
    "    print('%.1f' % (soma / len(mat)))"
   ]
  },
  {
   "cell_type": "markdown",
   "metadata": {},
   "source": [
    "# URI Solution"
   ]
  },
  {
   "cell_type": "code",
   "execution_count": null,
   "metadata": {},
   "outputs": [],
   "source": [
    "try:\n",
    "\n",
    "    operation = input().upper()\n",
    "    \n",
    "    m = []\n",
    "\n",
    "    for line in range(12):\n",
    "        m.append([])\n",
    "        for column in range(12):\n",
    "            m[line].append(float(input()))\n",
    "\n",
    "    accumulator = 0\n",
    "    number_of_elements = 0\n",
    "    \n",
    "    starting_position = 5\n",
    "    final_position    = 7\n",
    "    \n",
    "    for line in range(7, 12):    \n",
    "        accumulator += sum(m[line][starting_position:final_position])\n",
    "        number_of_elements += len(m[line][starting_position:final_position])\n",
    "        starting_position -= 1\n",
    "        final_position += 1\n",
    "    \n",
    "    if operation == 'S':\n",
    "        print('%.1f' % accumulator)\n",
    "    elif operation == 'M':\n",
    "        print('%.1f' % (accumulator / number_of_elements))\n",
    "    \n",
    "except:\n",
    "    print('Application error')"
   ]
  }
 ],
 "metadata": {
  "kernelspec": {
   "display_name": "Python 3",
   "language": "python",
   "name": "python3"
  },
  "language_info": {
   "codemirror_mode": {
    "name": "ipython",
    "version": 3
   },
   "file_extension": ".py",
   "mimetype": "text/x-python",
   "name": "python",
   "nbconvert_exporter": "python",
   "pygments_lexer": "ipython3",
   "version": "3.8.3"
  }
 },
 "nbformat": 4,
 "nbformat_minor": 4
}

{
 "cells": [
  {
   "cell_type": "code",
   "execution_count": null,
   "metadata": {},
   "outputs": [],
   "source": [
    "import math\n",
    "\n",
    "try:\n",
    "    \n",
    "    a, b, c = input().split()\n",
    "    \n",
    "    a = float(a)\n",
    "    b = float(b)\n",
    "    c = float(c)\n",
    "    \n",
    "    delta = b ** 2 - 4 * a * c\n",
    "    \n",
    "    aux = (2 * a)\n",
    "    \n",
    "    if aux == 0:\n",
    "        print('Impossivel calcular')\n",
    "    else:\n",
    "        if delta > 0:\n",
    "\n",
    "            delta = math.sqrt(delta)\n",
    "\n",
    "            x1 = (-b + delta) / aux\n",
    "\n",
    "            x2 = (-b - delta) / aux\n",
    "\n",
    "            print('R1 = %.5f' % x1)\n",
    "            print('R2 = %.5f' % x2)\n",
    "\n",
    "        elif delta == 0:\n",
    "             print('R1 = %.5f' % ((-b) / aux))\n",
    "        elif delta < 0:\n",
    "            print('Impossivel calcular')\n",
    "    \n",
    "except:\n",
    "    print('Inválid values')"
   ]
  }
 ],
 "metadata": {
  "kernelspec": {
   "display_name": "Python 3",
   "language": "python",
   "name": "python3"
  },
  "language_info": {
   "codemirror_mode": {
    "name": "ipython",
    "version": 3
   },
   "file_extension": ".py",
   "mimetype": "text/x-python",
   "name": "python",
   "nbconvert_exporter": "python",
   "pygments_lexer": "ipython3",
   "version": "3.8.3"
  }
 },
 "nbformat": 4,
 "nbformat_minor": 4
}

{
 "cells": [
  {
   "cell_type": "code",
   "execution_count": null,
   "metadata": {},
   "outputs": [],
   "source": [
    "try:\n",
    "    \n",
    "    x = round(float(input()), 4)\n",
    "    vector = [x]\n",
    "    \n",
    "    for i in range(1, 100):\n",
    "        vector.append(vector[i-1] / 2)\n",
    "    \n",
    "    for i in range(len(vector)):\n",
    "        print('N[%d] = %.4f' % (i, vector[i]))\n",
    "    \n",
    "except:\n",
    "    print('Invalid value')"
   ]
  }
 ],
 "metadata": {
  "kernelspec": {
   "display_name": "Python 3",
   "language": "python",
   "name": "python3"
  },
  "language_info": {
   "codemirror_mode": {
    "name": "ipython",
    "version": 3
   },
   "file_extension": ".py",
   "mimetype": "text/x-python",
   "name": "python",
   "nbconvert_exporter": "python",
   "pygments_lexer": "ipython3",
   "version": "3.8.3"
  }
 },
 "nbformat": 4,
 "nbformat_minor": 4
}

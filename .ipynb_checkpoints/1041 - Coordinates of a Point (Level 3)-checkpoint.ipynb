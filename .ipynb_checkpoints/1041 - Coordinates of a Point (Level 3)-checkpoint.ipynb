{
 "cells": [
  {
   "cell_type": "code",
   "execution_count": null,
   "metadata": {},
   "outputs": [],
   "source": [
    "try:\n",
    "    \n",
    "    x, y = input().split() \n",
    "    \n",
    "    x = round(float(x), 1)\n",
    "    y = round(float(y), 1)\n",
    "    \n",
    "    if x == 0 and y == 0:\n",
    "        print('Origem')\n",
    "    elif x > 0 and y > 0:\n",
    "        print('Q1')\n",
    "    elif x < 0 and y > 0:\n",
    "        print('Q2')\n",
    "    elif x < 0 and y < 0:\n",
    "        print('Q3')\n",
    "    elif x > 0 and y < 0:\n",
    "        print('Q4')\n",
    "    elif y == 0:\n",
    "        print('Eixo X')\n",
    "    elif x == 0:\n",
    "        print('Eixo Y')\n",
    "    \n",
    "except:\n",
    "    print('Invalid values')"
   ]
  }
 ],
 "metadata": {
  "kernelspec": {
   "display_name": "Python 3",
   "language": "python",
   "name": "python3"
  },
  "language_info": {
   "codemirror_mode": {
    "name": "ipython",
    "version": 3
   },
   "file_extension": ".py",
   "mimetype": "text/x-python",
   "name": "python",
   "nbconvert_exporter": "python",
   "pygments_lexer": "ipython3",
   "version": "3.8.3"
  }
 },
 "nbformat": 4,
 "nbformat_minor": 4
}

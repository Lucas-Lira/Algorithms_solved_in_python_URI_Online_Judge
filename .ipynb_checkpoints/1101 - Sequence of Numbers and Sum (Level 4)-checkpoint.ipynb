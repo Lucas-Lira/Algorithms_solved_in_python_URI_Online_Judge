{
 "cells": [
  {
   "cell_type": "code",
   "execution_count": null,
   "metadata": {},
   "outputs": [],
   "source": [
    "try:\n",
    "    \n",
    "    m, n = input().split()\n",
    "    \n",
    "    m = int(m)\n",
    "    n = int(n)\n",
    "    \n",
    "    while m > 0 and n > 0:\n",
    "        \n",
    "        maior = 0\n",
    "        menor = 0\n",
    "        soma = 0\n",
    "        \n",
    "        if m > n:\n",
    "            maior = m\n",
    "            menor = n\n",
    "        else:\n",
    "            maior = n\n",
    "            menor = m\n",
    "        \n",
    "        for i in range(menor, maior + 1):\n",
    "            print(i, end=\" \")\n",
    "            soma += i;\n",
    "        \n",
    "        print('Sum=%d' % soma)\n",
    "        \n",
    "        m, n = input().split()\n",
    "    \n",
    "        m = int(m)\n",
    "        n = int(n)\n",
    "    \n",
    "except:\n",
    "    print('Application error')"
   ]
  }
 ],
 "metadata": {
  "kernelspec": {
   "display_name": "Python 3",
   "language": "python",
   "name": "python3"
  },
  "language_info": {
   "codemirror_mode": {
    "name": "ipython",
    "version": 3
   },
   "file_extension": ".py",
   "mimetype": "text/x-python",
   "name": "python",
   "nbconvert_exporter": "python",
   "pygments_lexer": "ipython3",
   "version": "3.8.3"
  }
 },
 "nbformat": 4,
 "nbformat_minor": 4
}

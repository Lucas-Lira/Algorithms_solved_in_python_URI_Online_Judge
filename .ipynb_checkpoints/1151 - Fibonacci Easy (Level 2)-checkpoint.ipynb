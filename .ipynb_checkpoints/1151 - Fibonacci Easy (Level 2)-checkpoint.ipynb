{
 "cells": [
  {
   "cell_type": "code",
   "execution_count": null,
   "metadata": {},
   "outputs": [],
   "source": [
    "try:\n",
    "    \n",
    "    n = int(input())\n",
    "    myList = [0]\n",
    "    \n",
    "    \n",
    "    if n > 0 and n < 46:\n",
    "        for i in range(n):\n",
    "            if i < n - 1:\n",
    "                print(myList[i], end=\" \")\n",
    "            else:\n",
    "                print(myList[i])\n",
    "            if i == 0:\n",
    "                myList.append(myList[i] + 1)\n",
    "            else:\n",
    "                myList.append(myList[i] + myList[i-1])\n",
    "    else:\n",
    "        print('Invalid value')\n",
    "    \n",
    "except:\n",
    "    print('Invalid value')"
   ]
  }
 ],
 "metadata": {
  "kernelspec": {
   "display_name": "Python 3",
   "language": "python",
   "name": "python3"
  },
  "language_info": {
   "codemirror_mode": {
    "name": "ipython",
    "version": 3
   },
   "file_extension": ".py",
   "mimetype": "text/x-python",
   "name": "python",
   "nbconvert_exporter": "python",
   "pygments_lexer": "ipython3",
   "version": "3.8.5"
  }
 },
 "nbformat": 4,
 "nbformat_minor": 4
}

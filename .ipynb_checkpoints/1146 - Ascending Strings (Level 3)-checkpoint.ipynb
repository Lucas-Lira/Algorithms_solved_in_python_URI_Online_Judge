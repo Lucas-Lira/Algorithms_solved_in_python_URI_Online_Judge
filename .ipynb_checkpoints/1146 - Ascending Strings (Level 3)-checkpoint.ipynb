{
 "cells": [
  {
   "cell_type": "code",
   "execution_count": null,
   "metadata": {},
   "outputs": [],
   "source": [
    "try:\n",
    "    \n",
    "    value = int(input())\n",
    "    while value != 0:\n",
    "        \n",
    "        if value > 0:\n",
    "            for i in range(1, value + 1):\n",
    "            if i != value:\n",
    "                print(i, end=\" \")\n",
    "            else:\n",
    "                print(i)\n",
    "        else\n",
    "            for i in range(1, value - 1, -1):\n",
    "                if i != value:\n",
    "                    print(i, end=\" \")\n",
    "                else:\n",
    "                    print(i)\n",
    "        value = int(input())\n",
    "    \n",
    "except:\n",
    "    print('Invalid value')"
   ]
  }
 ],
 "metadata": {
  "kernelspec": {
   "display_name": "Python 3",
   "language": "python",
   "name": "python3"
  },
  "language_info": {
   "codemirror_mode": {
    "name": "ipython",
    "version": 3
   },
   "file_extension": ".py",
   "mimetype": "text/x-python",
   "name": "python",
   "nbconvert_exporter": "python",
   "pygments_lexer": "ipython3",
   "version": "3.8.5"
  }
 },
 "nbformat": 4,
 "nbformat_minor": 4
}

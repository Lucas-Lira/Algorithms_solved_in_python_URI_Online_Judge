{
 "cells": [
  {
   "cell_type": "markdown",
   "metadata": {},
   "source": [
    "# With Numpy"
   ]
  },
  {
   "cell_type": "code",
   "execution_count": null,
   "metadata": {},
   "outputs": [],
   "source": [
    "import numpy as np\n",
    "\n",
    "try:\n",
    "    \n",
    "    c = input().upper()\n",
    "\n",
    "    mat = np.random.uniform(0., 1000., (12, 12))\n",
    "    mat = np.tril(mat, -1)\n",
    "\n",
    "    if c == 'S':\n",
    "        print('%.1f' % np.sum(mat))\n",
    "    elif c == 'M':\n",
    "        soma = np.sum(mat)\n",
    "        print('%.1f' % (soma / 66))\n",
    "    \n",
    "except:\n",
    "    print('Invalid value')"
   ]
  },
  {
   "cell_type": "markdown",
   "metadata": {},
   "source": [
    "# URI Solution"
   ]
  },
  {
   "cell_type": "code",
   "execution_count": null,
   "metadata": {},
   "outputs": [],
   "source": [
    "try:\n",
    "\n",
    "    operation = input().upper()\n",
    "    \n",
    "    m = []\n",
    "\n",
    "    for line in range(12):\n",
    "        m.append([])\n",
    "        for column in range(12):\n",
    "            m[line].append(float(input()))\n",
    "\n",
    "    accumulator = 0\n",
    "    number_of_columns = 1\n",
    "    number_of_elements = 0\n",
    "\n",
    "    for line in range(1, 12):\n",
    "        accumulator += sum(m[line][:number_of_columns])\n",
    "        number_of_elements += len(m[line][:number_of_columns])\n",
    "        number_of_columns += 1\n",
    "    \n",
    "    if operation == 'S':\n",
    "        print('%.1f' % accumulator)\n",
    "    elif operation == 'M':\n",
    "        print('%.1f' % (accumulator / number_of_elements))\n",
    "    \n",
    "except:\n",
    "    print('Application error')"
   ]
  }
 ],
 "metadata": {
  "kernelspec": {
   "display_name": "Python 3",
   "language": "python",
   "name": "python3"
  },
  "language_info": {
   "codemirror_mode": {
    "name": "ipython",
    "version": 3
   },
   "file_extension": ".py",
   "mimetype": "text/x-python",
   "name": "python",
   "nbconvert_exporter": "python",
   "pygments_lexer": "ipython3",
   "version": "3.8.3"
  }
 },
 "nbformat": 4,
 "nbformat_minor": 4
}

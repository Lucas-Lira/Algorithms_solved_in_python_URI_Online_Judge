{
 "cells": [
  {
   "cell_type": "code",
   "execution_count": null,
   "metadata": {},
   "outputs": [],
   "source": [
    "try:\n",
    "    \n",
    "    inputs = []\n",
    "    output = []\n",
    "    \n",
    "    inputs.append(int(input()))\n",
    "    \n",
    "    for i in range(1, inputs[0] + 1):\n",
    "        \n",
    "        inputs.append(int(input()))\n",
    "        \n",
    "        output.append([0])\n",
    "        for j in range(inputs[i]):\n",
    "            if output[i-1][len(output[i-1]) - 1] == 0:\n",
    "                output[i-1].append(1)\n",
    "            else:\n",
    "                output[i-1].append(output[i-1][len(output[i-1]) - 1] + output[i-1][len(output[i-1]) - 2])\n",
    "        print('Fib(%d) = %d' % (inputs[i], output[i-1][len(output[i-1]) - 1]))\n",
    "    \n",
    "except:\n",
    "    print('Invalid values')"
   ]
  }
 ],
 "metadata": {
  "kernelspec": {
   "display_name": "Python 3",
   "language": "python",
   "name": "python3"
  },
  "language_info": {
   "codemirror_mode": {
    "name": "ipython",
    "version": 3
   },
   "file_extension": ".py",
   "mimetype": "text/x-python",
   "name": "python",
   "nbconvert_exporter": "python",
   "pygments_lexer": "ipython3",
   "version": "3.8.3"
  }
 },
 "nbformat": 4,
 "nbformat_minor": 4
}

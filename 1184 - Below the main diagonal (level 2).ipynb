{
 "cells": [
  {
   "cell_type": "markdown",
   "metadata": {},
   "source": [
    "# With Numpy"
   ]
  },
  {
   "cell_type": "code",
   "execution_count": 12,
   "metadata": {},
   "outputs": [
    {
     "name": "stdout",
     "output_type": "stream",
     "text": [
      "S\n",
      "Diagonal:  [[  0.           0.           0.           0.           0.\n",
      "    0.           0.           0.           0.           0.\n",
      "    0.           0.        ]\n",
      " [537.90342332   0.           0.           0.           0.\n",
      "    0.           0.           0.           0.           0.\n",
      "    0.           0.        ]\n",
      " [100.36129569 420.42078671   0.           0.           0.\n",
      "    0.           0.           0.           0.           0.\n",
      "    0.           0.        ]\n",
      " [543.90522638 263.81377691 909.57632261   0.           0.\n",
      "    0.           0.           0.           0.           0.\n",
      "    0.           0.        ]\n",
      " [204.69350813 488.3295342  331.60423614 747.8450954    0.\n",
      "    0.           0.           0.           0.           0.\n",
      "    0.           0.        ]\n",
      " [260.55896223 669.30041234 519.84832007 471.63197501 774.40042597\n",
      "    0.           0.           0.           0.           0.\n",
      "    0.           0.        ]\n",
      " [342.4878483  968.85511069 251.19205506 659.15226247 579.22900755\n",
      "  112.60824956   0.           0.           0.           0.\n",
      "    0.           0.        ]\n",
      " [646.01106476 714.99116203 751.9743397  715.40003085 466.0253081\n",
      "  502.11094511 902.56074294   0.           0.           0.\n",
      "    0.           0.        ]\n",
      " [ 97.20308078 740.61018958 241.23571331 330.89416601 389.34273838\n",
      "  809.37097358 273.43471368  50.35876106   0.           0.\n",
      "    0.           0.        ]\n",
      " [500.99926027  42.81512767 227.34361242 679.26756877 220.46267478\n",
      "  228.97623871 749.60990339 181.72356465 779.57372483   0.\n",
      "    0.           0.        ]\n",
      " [342.41271512 238.21983976 428.29355719  86.96276796 187.56528459\n",
      "  924.27199832  91.6398085  186.38488147 709.2104708  582.38688799\n",
      "    0.           0.        ]\n",
      " [178.68556312 144.76707485 454.98642725 209.80418543 758.33514049\n",
      "  930.30017165 534.26765677 239.06478029 483.76573001 250.79925195\n",
      "  966.43773608   0.        ]]\n",
      "30328.6\n"
     ]
    }
   ],
   "source": [
    "import numpy as np\n",
    "\n",
    "#try:\n",
    "    \n",
    "c = input().upper()\n",
    "\n",
    "mat = np.random.uniform(0., 1000., (12, 12))\n",
    "mat = np.tril(mat, -1)\n",
    "\n",
    "print('Diagonal: ', mat)\n",
    "\n",
    "if c == 'S':\n",
    "    print('%.1f' % np.sum(mat))\n",
    "elif c == 'M':\n",
    "    media = np.average(mat)\n",
    "    print('%.1f' % media)\n",
    "    \n",
    "#except:\n",
    "    #print('Invalid value')"
   ]
  },
  {
   "cell_type": "code",
   "execution_count": 10,
   "metadata": {},
   "outputs": [
    {
     "name": "stdout",
     "output_type": "stream",
     "text": [
      "[[ 0.          0.          0.        ]\n",
      " [17.26135553  0.          0.        ]\n",
      " [ 4.49655422  8.02528025  0.        ]]\n",
      "\n",
      "\n",
      "\n",
      "29.78318999681239\n",
      "\n",
      "\n",
      "\n",
      "3.3092433329791544\n"
     ]
    }
   ],
   "source": [
    "import numpy as np\n",
    "\n",
    "mat = np.random.uniform(0., 50., (3, 3))\n",
    "\n",
    "#print(mat)\n",
    "\n",
    "mat2 = np.tril(mat, -1)\n",
    "\n",
    "print(mat2)\n",
    "print('\\n\\n')\n",
    "print(np.sum(mat2))\n",
    "print('\\n\\n')\n",
    "print(np.average(mat2))"
   ]
  }
 ],
 "metadata": {
  "kernelspec": {
   "display_name": "Python 3",
   "language": "python",
   "name": "python3"
  },
  "language_info": {
   "codemirror_mode": {
    "name": "ipython",
    "version": 3
   },
   "file_extension": ".py",
   "mimetype": "text/x-python",
   "name": "python",
   "nbconvert_exporter": "python",
   "pygments_lexer": "ipython3",
   "version": "3.8.5"
  }
 },
 "nbformat": 4,
 "nbformat_minor": 4
}

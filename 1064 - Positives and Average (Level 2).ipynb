{
 "cells": [
  {
   "cell_type": "code",
   "execution_count": null,
   "metadata": {},
   "outputs": [],
   "source": [
    "\n",
    "\n",
    "try:\n",
    "    \n",
    "    positives = 0\n",
    "    total = 0\n",
    "    \n",
    "    for i in range(6):\n",
    "        value = float(input())\n",
    "        \n",
    "        if value > 0:\n",
    "            positives += 1\n",
    "            total += value\n",
    "        \n",
    "    print('%d valores positivos\\n%.1f' % (positives, (total/positives)))\n",
    "    \n",
    "except:\n",
    "    print('Invalid values')"
   ]
  }
 ],
 "metadata": {
  "kernelspec": {
   "display_name": "Python 3",
   "language": "python",
   "name": "python3"
  },
  "language_info": {
   "codemirror_mode": {
    "name": "ipython",
    "version": 3
   },
   "file_extension": ".py",
   "mimetype": "text/x-python",
   "name": "python",
   "nbconvert_exporter": "python",
   "pygments_lexer": "ipython3",
   "version": "3.8.3"
  }
 },
 "nbformat": 4,
 "nbformat_minor": 4
}

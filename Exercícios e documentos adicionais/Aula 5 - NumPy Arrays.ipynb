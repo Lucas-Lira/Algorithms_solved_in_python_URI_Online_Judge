{
 "cells": [
  {
   "cell_type": "markdown",
   "metadata": {},
   "source": [
    "# Aula 5 - Arrays Multidimensionais e a biblioteca NumPy\n",
    "\n",
    "#### Numpy documentation:\n",
    "\n",
    "\"https://numpy.org/doc/\"   \n",
    "\n"
   ]
  },
  {
   "cell_type": "markdown",
   "metadata": {},
   "source": [
    "## 1) Arrays multidimensionais (Matrizes)\n",
    "Muitas vezes as informações disponíveis em base de dados são organizadas em linhas e colunas, formando\n",
    "agrupamentos retangulares denominados matrizes. Com frequência, essas matrizes\n",
    "aparecem como tabelas de dados numéricos que surgem em observações físicas, mas\n",
    "também ocorrem em vários contextos matemáticos. \n"
   ]
  },
  {
   "cell_type": "markdown",
   "metadata": {},
   "source": [
    "Por exemplo, toda informação\n",
    "necessária para resolver um sistema de equações tal como\n",
    "$$5x + y = 3\\\\ 2x - y = 4$$\n",
    "\n",
    "está encorpada na matriz\n",
    "$$\\left\\lgroup \\matrix{5 & 1 & 3\\cr 2 & -1 & 4} \\right\\rgroup$$\n",
    "\n",
    "e que a solução do sistema pode ser obtida efetuando operações apropriadas nessa\n",
    "matriz. Isto é particularmente importante no desenvolvimento de programas de\n",
    "computador para resolver sistemas de equações lineares dentre outras várias\n",
    "aplicações científicas. "
   ]
  },
  {
   "cell_type": "markdown",
   "metadata": {},
   "source": [
    "### Declarando um matriz com listas:"
   ]
  },
  {
   "cell_type": "markdown",
   "metadata": {},
   "source": [
    "Para criar uma matriz de dimensões $l$ × $c$ inicialmente vazia, podemos utilizar compreensão de listas.\n",
    "Exemplo de uma matriz 3 × 4 inicialmente vazia:"
   ]
  },
  {
   "cell_type": "code",
   "execution_count": 1,
   "metadata": {},
   "outputs": [
    {
     "data": {
      "text/plain": [
       "[[], [], []]"
      ]
     },
     "execution_count": 1,
     "metadata": {},
     "output_type": "execute_result"
    }
   ],
   "source": [
    "mat = [ [] for i in range(3) ] #dentro da lista externa cria-se vazia 3 listas []\n",
    "mat"
   ]
  },
  {
   "cell_type": "markdown",
   "metadata": {},
   "source": [
    "* Lembre-se que os indices de uma lista começam em 0;\n",
    "* Note que cada lista interna representa uma linha da matriz, e seu tamanho pode ser 4 ou qualquer outro valor."
   ]
  },
  {
   "cell_type": "markdown",
   "metadata": {},
   "source": [
    "### Exemplo de declaração de matriz"
   ]
  },
  {
   "cell_type": "markdown",
   "metadata": {},
   "source": [
    "Criar uma matriz 3 × 4 onde cada posição ($i$, $j$) contém o valor de $i$ * $j$."
   ]
  },
  {
   "cell_type": "code",
   "execution_count": 4,
   "metadata": {},
   "outputs": [
    {
     "name": "stdout",
     "output_type": "stream",
     "text": [
      "[[0, 0, 0, 0], [1, 2], [0, 1, 2, 3], [1, 2], [0, 2, 4, 6], [1, 2]]\n"
     ]
    }
   ],
   "source": [
    "mat = []\n",
    "for i in range(3): #para cada linha de 0 at´e 2\n",
    "    l = [] #linha começa vazia\n",
    "    for j in range(4): #para cada coluna de 0 at´e 3\n",
    "        l.append(i*j) #preenche colunas da linha i\n",
    "    mat.append(l) #adiciona linha na matriz\n",
    "print(mat)"
   ]
  },
  {
   "cell_type": "markdown",
   "metadata": {},
   "source": [
    "### Compreensão de listas:"
   ]
  },
  {
   "cell_type": "markdown",
   "metadata": {},
   "source": [
    "* Escrever códigos mais curtos e mais eficazes;\n",
    "* O código será executado de forma mais rápida."
   ]
  },
  {
   "cell_type": "markdown",
   "metadata": {},
   "source": [
    "#### Exemplo 1:"
   ]
  },
  {
   "cell_type": "code",
   "execution_count": 6,
   "metadata": {},
   "outputs": [
    {
     "name": "stdout",
     "output_type": "stream",
     "text": [
      "2\n",
      "4\n",
      "6\n",
      "8\n",
      "10\n",
      "12\n",
      "14\n",
      "16\n",
      "18\n",
      "20\n"
     ]
    }
   ],
   "source": [
    "for i in range(1, 21):         #iterador\n",
    "   if i % 2 == 0:                #filtro condicional\n",
    "      print(i)                #retorno"
   ]
  },
  {
   "cell_type": "code",
   "execution_count": 5,
   "metadata": {},
   "outputs": [
    {
     "data": {
      "text/plain": [
       "[2, 4, 6, 8, 10, 12, 14, 16, 18, 20]"
      ]
     },
     "execution_count": 5,
     "metadata": {},
     "output_type": "execute_result"
    }
   ],
   "source": [
    "[ i for i in range(1, 21) if i % 2 == 0 ]"
   ]
  },
  {
   "cell_type": "markdown",
   "metadata": {},
   "source": [
    "#### Exemplo 2:"
   ]
  },
  {
   "cell_type": "code",
   "execution_count": 8,
   "metadata": {},
   "outputs": [],
   "source": [
    "x = [1,2,3,4]"
   ]
  },
  {
   "cell_type": "code",
   "execution_count": 9,
   "metadata": {},
   "outputs": [
    {
     "name": "stdout",
     "output_type": "stream",
     "text": [
      "[1, 4, 9, 16]\n"
     ]
    }
   ],
   "source": [
    "out = []\n",
    "for item in x:\n",
    "    out.append(item**2)\n",
    "print(out)"
   ]
  },
  {
   "cell_type": "code",
   "execution_count": 11,
   "metadata": {},
   "outputs": [
    {
     "data": {
      "text/plain": [
       "[1, 4, 9, 16]"
      ]
     },
     "execution_count": 11,
     "metadata": {},
     "output_type": "execute_result"
    }
   ],
   "source": [
    "[item**2 for item in x]"
   ]
  },
  {
   "cell_type": "markdown",
   "metadata": {},
   "source": [
    "#### Construindo matriz com compreensão de listas:"
   ]
  },
  {
   "cell_type": "code",
   "execution_count": 15,
   "metadata": {},
   "outputs": [
    {
     "data": {
      "text/plain": [
       "[[0, 0, 0, 0], [0, 1, 2, 3], [0, 2, 4, 6]]"
      ]
     },
     "execution_count": 15,
     "metadata": {},
     "output_type": "execute_result"
    }
   ],
   "source": [
    "mat = [ [i*j for j in range(4)] for i in range(3)]\n",
    "mat"
   ]
  },
  {
   "cell_type": "markdown",
   "metadata": {},
   "source": [
    "#### Acessando dados de uma Matriz:"
   ]
  },
  {
   "cell_type": "markdown",
   "metadata": {},
   "source": [
    "$$ \n",
    "matriz [linha][coluna]\n",
    "$$"
   ]
  },
  {
   "cell_type": "markdown",
   "metadata": {},
   "source": [
    "* Exemplo de matriz 5 × 5 inicializada com 0s;\n",
    "* Atribuição do valor 67 para a linha 2 e coluna 2."
   ]
  },
  {
   "cell_type": "code",
   "execution_count": null,
   "metadata": {},
   "outputs": [],
   "source": [
    "#cria matriz 5x5 toda com zeros\n",
    "mat = [ [0 for j in range(5)] for i in range (5)]\n",
    "mat[2][2] = 67\n",
    "mat"
   ]
  },
  {
   "cell_type": "markdown",
   "metadata": {},
   "source": [
    "## 2) NumPy \n",
    "\n",
    "NumPy (ou Numpy) é uma biblioteca de álgebra linear para Python, a razão pela qual é tão importante para a Data Science com Python é que quase todas as bibliotecas dependem do NumPy como um dos seus principais blocos de construção.\n",
    "\n",
    "Numpy também é incrivelmente rápido, pois tem ligações para bibliotecas C. Para obter mais informações sobre por que você deseja usar Arrays em vez de listas, confira esta excelente publicação do [StackOverflow post](http://stackoverflow.com/questions/993984/why-numpy-instead-of-python-lists).\n",
    "\n",
    "Nós só aprenderemos os conceitos básicos do NumPy, para começar, precisamos instalá-lo!"
   ]
  },
  {
   "cell_type": "markdown",
   "metadata": {},
   "source": [
    "## Instruções de instalação\n",
    "\n",
    "** É altamente recomendável que instale o Python usando a distribuição da Anaconda para garantir que todas as dependências subjacentes (como as bibliotecas de Álgebra Linear) se sincronizem com o uso de uma instalação conda. Se você tiver o Anaconda, instale o NumPy acessando seu terminal ou prompt de comando e digite: **\n",
    "\n",
    "    conda install numpy\n",
    "    \n",
    "** Se você não possui Anaconda e não pode instalá-lo, consulte: [Numpy's official documentation on various installation instructions.](http://docs.scipy.org/doc/numpy-1.10.1/user/install.html)**"
   ]
  },
  {
   "cell_type": "markdown",
   "metadata": {},
   "source": [
    "## Usando NumPy\n",
    "\n",
    "Depois de instalar o NumPy, você pode importá-lo como uma biblioteca:"
   ]
  },
  {
   "cell_type": "code",
<<<<<<< HEAD
   "execution_count": 2,
=======
   "execution_count": 25,
>>>>>>> 060bb03e16024c678891d0daec334a4f9be39cd1
   "metadata": {},
   "outputs": [],
   "source": [
    "import numpy as np"
   ]
  },
  {
   "cell_type": "markdown",
   "metadata": {},
   "source": [
    "Numpy possui muitas funções e capacidades incorporadas. Não vamos cobri-los na totalidade, mas, em vez disso, vamos nos concentrar em alguns dos aspectos mais importantes de Numpy: vetores, arrays, matrizes e geração de números. Comecemos por arrays:\n",
    "\n",
    "# Numpy Arrays\n",
    "\n",
    "As matrizes de NumPy são a maneira principal de usar Numpy ao longo do curso. Numpy arrays essencialmente vêm de duas formas: vetores e matrizes. Os vetores são estritamente arranjos de 1d e as matrizes são 2d (mas você deve observar que uma matriz ainda pode ter apenas uma linha ou uma coluna).\n",
    "\n",
    "Vamos começar nossa introdução explorando como criar matrizes numPy.\n",
    "\n",
    "\n",
    "## Criando NumPy Arrays\n",
    "\n",
    "### De uma lista de Python\n",
    "\n",
    "Podemos criar uma matriz convertendo diretamente uma lista ou lista de listas:"
   ]
  },
  {
   "cell_type": "code",
   "execution_count": 16,
   "metadata": {},
   "outputs": [
    {
     "data": {
      "text/plain": [
       "[1, 2, 3]"
      ]
     },
     "execution_count": 16,
     "metadata": {},
     "output_type": "execute_result"
    }
   ],
   "source": [
    "minha_lista = [1,2,3]\n",
    "minha_lista"
   ]
  },
  {
   "cell_type": "code",
   "execution_count": 19,
   "metadata": {},
   "outputs": [
    {
     "data": {
      "text/plain": [
       "array([1, 2, 3])"
      ]
     },
     "execution_count": 19,
     "metadata": {},
     "output_type": "execute_result"
    }
   ],
   "source": [
    "np.array(minha_lista)"
   ]
  },
  {
   "cell_type": "code",
   "execution_count": 28,
   "metadata": {},
   "outputs": [
    {
     "data": {
      "text/plain": [
       "[[1, 2, 3, 4], [5, 6, 7, 8], [9, 10, 11, 12]]"
      ]
     },
     "execution_count": 28,
     "metadata": {},
     "output_type": "execute_result"
    }
   ],
   "source": [
    "minha_matriz = [[1,2,3,4],[5,6,7,8],[9,10,11,12]]\n",
    "minha_matriz"
   ]
  },
  {
   "cell_type": "code",
   "execution_count": 35,
   "metadata": {},
   "outputs": [
    {
     "name": "stdout",
     "output_type": "stream",
     "text": [
      "1 2 3 4 \n",
      "5 6 7 8 \n",
      "9 10 11 12 \n"
     ]
    }
   ],
   "source": [
    "my_arr = np.array(minha_matriz)\n",
    "\n",
    "len(my_arr)\n",
    "\n",
    "for line in range(len(my_arr)):\n",
    "    for column in range(len(my_arr[line])):\n",
    "        print(my_arr[line][column], end=\" \")\n",
    "    print()"
   ]
  },
  {
   "cell_type": "markdown",
   "metadata": {},
   "source": [
    "## Métodos incorporados (Built-in Methods)\n",
    "\n",
    "Há muitas maneiras embutidas de gerar Arrays"
   ]
  },
  {
   "cell_type": "markdown",
   "metadata": {},
   "source": [
    "### arange\n",
    "\n",
    "Retorna valores uniformemente espaçados dentro de um determinado intervalo."
   ]
  },
  {
   "cell_type": "code",
   "execution_count": 3,
   "metadata": {},
   "outputs": [
    {
     "name": "stdout",
     "output_type": "stream",
     "text": [
      "[0 1 2 3 4 5 6 7 8 9]\n"
     ]
    }
   ],
   "source": [
    "my_array = np.arange(0,10)\n",
    "print(my_array)"
   ]
  },
  {
   "cell_type": "code",
   "execution_count": 4,
   "metadata": {},
   "outputs": [
    {
     "name": "stdout",
     "output_type": "stream",
     "text": [
      "[ 0  2  4  6  8 10]\n"
     ]
    }
   ],
   "source": [
    "my_array = np.arange(0,11,2)\n",
    "print(my_array)"
   ]
  },
  {
   "cell_type": "markdown",
   "metadata": {},
   "source": [
    "### zeros e ones\n",
    "\n",
    "Gerar matrizes de zeros ou de ums"
   ]
  },
  {
   "cell_type": "code",
   "execution_count": 10,
   "metadata": {},
   "outputs": [
    {
     "name": "stdout",
     "output_type": "stream",
     "text": [
      "One:  [0. 0. 0.]\n",
      "Two:  [[0. 0. 0.]\n",
      " [0. 0. 0.]\n",
      " [0. 0. 0.]]\n"
     ]
    }
   ],
   "source": [
    "arr_one = np.zeros(3)\n",
    "arr_two = np.zeros((3, 3))\n",
    "print('One: ', arr_one)\n",
    "print('Two: ', arr_two)"
   ]
  },
  {
   "cell_type": "code",
   "execution_count": 11,
   "metadata": {},
   "outputs": [
    {
     "data": {
      "text/plain": [
       "array([[0., 0., 0., 0., 0.],\n",
       "       [0., 0., 0., 0., 0.],\n",
       "       [0., 0., 0., 0., 0.],\n",
       "       [0., 0., 0., 0., 0.],\n",
       "       [0., 0., 0., 0., 0.]])"
      ]
     },
     "execution_count": 11,
     "metadata": {},
     "output_type": "execute_result"
    }
   ],
   "source": [
    "np.zeros((5,5))"
   ]
  },
  {
   "cell_type": "code",
   "execution_count": 12,
   "metadata": {},
   "outputs": [
    {
     "data": {
      "text/plain": [
       "array([1., 1., 1.])"
      ]
     },
     "execution_count": 12,
     "metadata": {},
     "output_type": "execute_result"
    }
   ],
   "source": [
    "np.ones(3)"
   ]
  },
  {
   "cell_type": "code",
   "execution_count": 13,
   "metadata": {},
   "outputs": [
    {
     "data": {
      "text/plain": [
       "array([[1., 1., 1.],\n",
       "       [1., 1., 1.],\n",
       "       [1., 1., 1.]])"
      ]
     },
     "execution_count": 13,
     "metadata": {},
     "output_type": "execute_result"
    }
   ],
   "source": [
    "np.ones((3,3))"
   ]
  },
  {
   "cell_type": "markdown",
   "metadata": {},
   "source": [
    "### linspace\n",
    "Retorna números uniformemente espaçados ao longo de um intervalo especificado."
   ]
  },
  {
   "cell_type": "code",
   "execution_count": 16,
   "metadata": {},
   "outputs": [
    {
     "data": {
      "text/plain": [
       "array([ 0.,  5., 10.])"
      ]
     },
     "execution_count": 16,
     "metadata": {},
     "output_type": "execute_result"
    }
   ],
   "source": [
    "np.linspace(0,10,3)"
   ]
  },
  {
   "cell_type": "code",
   "execution_count": 64,
   "metadata": {},
   "outputs": [
    {
     "data": {
      "text/plain": [
       "array([ 0.        ,  0.52631579,  1.05263158,  1.57894737,  2.10526316,\n",
       "        2.63157895,  3.15789474,  3.68421053,  4.21052632,  4.73684211,\n",
       "        5.26315789,  5.78947368,  6.31578947,  6.84210526,  7.36842105,\n",
       "        7.89473684,  8.42105263,  8.94736842,  9.47368421, 10.        ])"
      ]
     },
     "execution_count": 64,
     "metadata": {},
     "output_type": "execute_result"
    }
   ],
   "source": [
    "np.linspace(0,10,20)"
   ]
  },
  {
   "cell_type": "markdown",
   "metadata": {},
   "source": [
    "## eye\n",
    "\n",
    "Cria uma matriz identidade"
   ]
  },
  {
   "cell_type": "code",
   "execution_count": 20,
   "metadata": {},
   "outputs": [
    {
     "data": {
      "text/plain": [
       "array([[1., 0., 0., 0., 0.],\n",
       "       [0., 1., 0., 0., 0.],\n",
       "       [0., 0., 1., 0., 0.],\n",
       "       [0., 0., 0., 1., 0.],\n",
       "       [0., 0., 0., 0., 1.]])"
      ]
     },
     "execution_count": 20,
     "metadata": {},
     "output_type": "execute_result"
    }
   ],
   "source": [
    "np.eye(5)"
   ]
  },
  {
   "cell_type": "markdown",
   "metadata": {},
   "source": [
    "## Random \n",
    "\n",
    "Numpy também tem muitas maneiras de criar arrays de números aleatórios:\n",
    "\n",
    "### rand\n",
    "Cria uma matriz da forma dada e preencha com amostras aleatórias de uma distribuição uniforme sobre ``[0, 1)``."
   ]
  },
  {
   "cell_type": "code",
   "execution_count": 23,
   "metadata": {},
   "outputs": [
    {
     "data": {
      "text/plain": [
       "array([0.7866264 , 0.80504672])"
      ]
     },
     "execution_count": 23,
     "metadata": {},
     "output_type": "execute_result"
    }
   ],
   "source": [
    "np.random.rand(2)"
   ]
  },
  {
   "cell_type": "code",
   "execution_count": 24,
   "metadata": {},
   "outputs": [
    {
     "data": {
      "text/plain": [
       "array([[0.64804349, 0.30797371, 0.01713854, 0.79554598, 0.87579791],\n",
       "       [0.76799094, 0.75720454, 0.01637764, 0.39515796, 0.02480157],\n",
       "       [0.67391456, 0.64314371, 0.36838209, 0.05374794, 0.43688217],\n",
       "       [0.42042869, 0.59932417, 0.73252294, 0.50950993, 0.89827643],\n",
       "       [0.75951491, 0.72825745, 0.93108633, 0.02924616, 0.50887207]])"
      ]
     },
     "execution_count": 24,
     "metadata": {},
     "output_type": "execute_result"
    }
   ],
   "source": [
    "np.random.rand(5,5)"
   ]
  },
  {
   "cell_type": "markdown",
   "metadata": {},
   "source": [
    "### randn\n",
    "\n",
    "Retorna uma amostra (ou amostras) da distribuição \"normal\". Ao contrário de rand, que é uniforme:"
   ]
  },
  {
   "cell_type": "code",
   "execution_count": 63,
   "metadata": {},
   "outputs": [
    {
     "name": "stdout",
     "output_type": "stream",
     "text": [
      "[[648.93496238 649.75035578 722.14908505]\n",
      " [154.46790249 873.51371697 295.65417892]\n",
      " [ 57.02133613 646.41453206 100.58056451]]\n"
     ]
    }
   ],
   "source": [
    "# Gera uma matriz 3X3 com valore entre [0. e 1000.]\n",
    "mat = np.random.uniform(0.,1000., (3, 3))\n",
    "print(mat)"
   ]
  },
  {
   "cell_type": "code",
   "execution_count": 25,
   "metadata": {},
   "outputs": [
    {
     "data": {
      "text/plain": [
       "array([-0.33265472,  0.27345363])"
      ]
     },
     "execution_count": 25,
     "metadata": {},
     "output_type": "execute_result"
    }
   ],
   "source": [
    "np.random.randn(2)"
   ]
  },
  {
   "cell_type": "code",
   "execution_count": 26,
   "metadata": {},
   "outputs": [
    {
     "data": {
      "text/plain": [
       "array([[-0.56196323, -0.10058057,  0.4002719 , -1.05101669, -0.82861589],\n",
       "       [ 1.48275779, -0.32171578,  0.64406851, -0.59298184,  0.20593399],\n",
       "       [-0.40014207,  0.44088034, -0.16804602,  0.63140695,  1.63732401],\n",
       "       [-0.30266171,  0.41850995,  0.48112865, -0.77299288, -0.47539964],\n",
       "       [-2.02448746, -0.24541044, -1.6220213 , -1.06133889, -0.48312513]])"
      ]
     },
     "execution_count": 26,
     "metadata": {},
     "output_type": "execute_result"
    }
   ],
   "source": [
    "np.random.randn(5,5)"
   ]
  },
  {
   "cell_type": "code",
   "execution_count": 27,
   "metadata": {},
   "outputs": [],
   "source": [
    "import matplotlib.pyplot as plt\n",
    "data = np.random.randn(15,2)"
   ]
  },
  {
   "cell_type": "code",
   "execution_count": 28,
   "metadata": {},
   "outputs": [
    {
     "data": {
      "text/plain": [
       "array([[-0.24040239, -0.28996599],\n",
       "       [ 0.54866064, -0.49217203],\n",
       "       [ 1.25452618, -0.753921  ],\n",
       "       [-0.29876168, -0.67071816],\n",
       "       [ 1.05050468,  2.14162436],\n",
       "       [ 0.85203763, -0.17558628],\n",
       "       [-1.24544757,  1.22668042],\n",
       "       [-0.03264572,  1.22670198],\n",
       "       [-1.98140464, -0.8507377 ],\n",
       "       [ 0.76464606,  0.70181914],\n",
       "       [-1.9979718 ,  0.30925339],\n",
       "       [-0.61126189, -0.07560921],\n",
       "       [ 2.18524609, -0.68117583],\n",
       "       [-1.01968578,  0.90193212],\n",
       "       [ 0.41989318, -0.19586862]])"
      ]
     },
     "execution_count": 28,
     "metadata": {},
     "output_type": "execute_result"
    }
   ],
   "source": [
    "data"
   ]
  },
  {
   "cell_type": "code",
   "execution_count": 29,
   "metadata": {},
   "outputs": [
    {
     "data": {
      "text/plain": [
       "-0.4921720322096532"
      ]
     },
     "execution_count": 29,
     "metadata": {},
     "output_type": "execute_result"
    }
   ],
   "source": [
    "data[1,1]"
   ]
  },
  {
   "cell_type": "code",
   "execution_count": 37,
   "metadata": {},
   "outputs": [
    {
     "data": {
      "image/png": "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\n",
      "text/plain": [
       "<Figure size 432x288 with 1 Axes>"
      ]
     },
     "metadata": {
      "needs_background": "light"
     },
     "output_type": "display_data"
    },
    {
     "data": {
      "image/png": "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\n",
      "text/plain": [
       "<Figure size 432x288 with 1 Axes>"
      ]
     },
     "metadata": {
      "needs_background": "light"
     },
     "output_type": "display_data"
    }
   ],
   "source": [
    "distribuicao_normal = np.random.randn(1000,2)\n",
    "distribuicao_uniforme = np.random.rand(1000, 2)\n",
    "plt.scatter(distribuicao_normal[:,0], distribuicao_normal[:,1])\n",
    "plt.show()\n",
    "\n",
    "plt.scatter(distribuicao_uniforme[:,0], distribuicao_uniforme[:,1])\n",
    "plt.show()\n"
   ]
  },
  {
   "cell_type": "markdown",
   "metadata": {},
   "source": [
    "### randint\n",
    "Retorna inteiros aleatórios."
   ]
  },
  {
   "cell_type": "code",
   "execution_count": 38,
   "metadata": {},
   "outputs": [
    {
     "data": {
      "text/plain": [
       "56"
      ]
     },
     "execution_count": 38,
     "metadata": {},
     "output_type": "execute_result"
    }
   ],
   "source": [
    "np.random.randint(1,100)"
   ]
  },
  {
   "cell_type": "code",
   "execution_count": 40,
   "metadata": {},
   "outputs": [
    {
     "data": {
      "text/plain": [
       "array([41, 11, 81, 38, 27])"
      ]
     },
     "execution_count": 40,
     "metadata": {},
     "output_type": "execute_result"
    }
   ],
   "source": [
    "np.random.randint(1, 100, 5)"
   ]
  },
  {
   "cell_type": "markdown",
   "metadata": {},
   "source": [
    "## Atributos de Array e Métodos\n",
    "\n",
    "Vamos discutir alguns atributos e métodos úteis ou uma matriz:"
   ]
  },
  {
   "cell_type": "code",
   "execution_count": 41,
   "metadata": {},
   "outputs": [],
   "source": [
    "arr = np.arange(25)\n",
    "ranarr = np.random.randint(0,50,10)"
   ]
  },
  {
   "cell_type": "code",
   "execution_count": 42,
   "metadata": {},
   "outputs": [
    {
     "data": {
      "text/plain": [
       "array([ 0,  1,  2,  3,  4,  5,  6,  7,  8,  9, 10, 11, 12, 13, 14, 15, 16,\n",
       "       17, 18, 19, 20, 21, 22, 23, 24])"
      ]
     },
     "execution_count": 42,
     "metadata": {},
     "output_type": "execute_result"
    }
   ],
   "source": [
    "arr"
   ]
  },
  {
   "cell_type": "code",
   "execution_count": 43,
   "metadata": {},
   "outputs": [
    {
     "data": {
      "text/plain": [
       "array([19, 10, 28,  2, 10, 46, 29,  8, 41,  5])"
      ]
     },
     "execution_count": 43,
     "metadata": {},
     "output_type": "execute_result"
    }
   ],
   "source": [
    "ranarr"
   ]
  },
  {
   "cell_type": "markdown",
   "metadata": {},
   "source": [
    "## Reshape\n",
    "Retorna uma matriz contendo os mesmos dados com uma nova forma."
   ]
  },
  {
   "cell_type": "code",
   "execution_count": 44,
   "metadata": {},
   "outputs": [
    {
     "data": {
      "text/plain": [
       "array([[ 0,  1,  2,  3,  4],\n",
       "       [ 5,  6,  7,  8,  9],\n",
       "       [10, 11, 12, 13, 14],\n",
       "       [15, 16, 17, 18, 19],\n",
       "       [20, 21, 22, 23, 24]])"
      ]
     },
     "execution_count": 44,
     "metadata": {},
     "output_type": "execute_result"
    }
   ],
   "source": [
    "arr.reshape(5,5)"
   ]
  },
  {
   "cell_type": "markdown",
   "metadata": {},
   "source": [
    "### max,min,argmax,argmin\n",
    "\n",
    "Estes são métodos úteis para encontrar valores máximos ou mínimos, ou para encontrar seus locais de índice usando argmin ou argmax"
   ]
  },
  {
   "cell_type": "code",
   "execution_count": 45,
   "metadata": {},
   "outputs": [
    {
     "data": {
      "text/plain": [
       "array([19, 10, 28,  2, 10, 46, 29,  8, 41,  5])"
      ]
     },
     "execution_count": 45,
     "metadata": {},
     "output_type": "execute_result"
    }
   ],
   "source": [
    "ranarr"
   ]
  },
  {
   "cell_type": "code",
   "execution_count": 46,
   "metadata": {},
   "outputs": [
    {
     "data": {
      "text/plain": [
       "46"
      ]
     },
     "execution_count": 46,
     "metadata": {},
     "output_type": "execute_result"
    }
   ],
   "source": [
    "ranarr.max()"
   ]
  },
  {
   "cell_type": "code",
   "execution_count": 47,
   "metadata": {},
   "outputs": [
    {
     "data": {
      "text/plain": [
       "5"
      ]
     },
     "execution_count": 47,
     "metadata": {},
     "output_type": "execute_result"
    }
   ],
   "source": [
    "ranarr.argmax()"
   ]
  },
  {
   "cell_type": "code",
   "execution_count": 48,
   "metadata": {},
   "outputs": [
    {
     "data": {
      "text/plain": [
       "2"
      ]
     },
     "execution_count": 48,
     "metadata": {},
     "output_type": "execute_result"
    }
   ],
   "source": [
    "ranarr.min()"
   ]
  },
  {
   "cell_type": "code",
   "execution_count": 49,
   "metadata": {},
   "outputs": [
    {
     "data": {
      "text/plain": [
       "3"
      ]
     },
     "execution_count": 49,
     "metadata": {},
     "output_type": "execute_result"
    }
   ],
   "source": [
    "ranarr.argmin()"
   ]
  },
  {
   "cell_type": "markdown",
   "metadata": {},
   "source": [
    "## Shape\n",
    "\n",
    "Shape é um atributo que os arrays têm (não um método):"
   ]
  },
  {
   "cell_type": "code",
   "execution_count": 50,
   "metadata": {},
   "outputs": [
    {
     "data": {
      "text/plain": [
       "(25,)"
      ]
     },
     "execution_count": 50,
     "metadata": {},
     "output_type": "execute_result"
    }
   ],
   "source": [
    "# Vector\n",
    "arr.shape"
   ]
  },
  {
   "cell_type": "code",
   "execution_count": 51,
   "metadata": {},
   "outputs": [
    {
     "data": {
      "text/plain": [
       "array([[ 0,  1,  2,  3,  4,  5,  6,  7,  8,  9, 10, 11, 12, 13, 14, 15,\n",
       "        16, 17, 18, 19, 20, 21, 22, 23, 24]])"
      ]
     },
     "execution_count": 51,
     "metadata": {},
     "output_type": "execute_result"
    }
   ],
   "source": [
    "arr.reshape(1,25)"
   ]
  },
  {
   "cell_type": "code",
   "execution_count": 52,
   "metadata": {},
   "outputs": [
    {
     "data": {
      "text/plain": [
       "(1, 25)"
      ]
     },
     "execution_count": 52,
     "metadata": {},
     "output_type": "execute_result"
    }
   ],
   "source": [
    "arr.reshape(1,25).shape"
   ]
  },
  {
   "cell_type": "code",
   "execution_count": 53,
   "metadata": {
    "scrolled": true
   },
   "outputs": [
    {
     "data": {
      "text/plain": [
       "array([[ 0],\n",
       "       [ 1],\n",
       "       [ 2],\n",
       "       [ 3],\n",
       "       [ 4],\n",
       "       [ 5],\n",
       "       [ 6],\n",
       "       [ 7],\n",
       "       [ 8],\n",
       "       [ 9],\n",
       "       [10],\n",
       "       [11],\n",
       "       [12],\n",
       "       [13],\n",
       "       [14],\n",
       "       [15],\n",
       "       [16],\n",
       "       [17],\n",
       "       [18],\n",
       "       [19],\n",
       "       [20],\n",
       "       [21],\n",
       "       [22],\n",
       "       [23],\n",
       "       [24]])"
      ]
     },
     "execution_count": 53,
     "metadata": {},
     "output_type": "execute_result"
    }
   ],
   "source": [
    "arr.reshape(25,1)"
   ]
  },
  {
   "cell_type": "code",
   "execution_count": 56,
   "metadata": {
    "scrolled": true
   },
   "outputs": [
    {
     "data": {
      "text/plain": [
       "(25, 1)"
      ]
     },
     "execution_count": 56,
     "metadata": {},
     "output_type": "execute_result"
    }
   ],
   "source": [
    "arr.reshape(25,1).shape"
   ]
  },
  {
   "cell_type": "markdown",
   "metadata": {},
   "source": [
    "### dtype\n",
    "Você também pode pegar o tipo de dados do objeto na matriz:"
   ]
  },
  {
   "cell_type": "code",
   "execution_count": 62,
   "metadata": {},
   "outputs": [
    {
     "name": "stdout",
     "output_type": "stream",
     "text": [
      "int32\n",
      "<U5\n"
     ]
    }
   ],
   "source": [
    "arr = np.array([1, 31, 2])\n",
    "print(arr.dtype)\n",
    "arr = np.array(['dasd', 1, 31, 'fsdfs', 2.5])\n",
    "print(arr.dtype)"
   ]
  }
 ],
 "metadata": {
  "kernelspec": {
   "display_name": "Python 3",
   "language": "python",
   "name": "python3"
  },
  "language_info": {
   "codemirror_mode": {
    "name": "ipython",
    "version": 3
   },
   "file_extension": ".py",
   "mimetype": "text/x-python",
   "name": "python",
   "nbconvert_exporter": "python",
   "pygments_lexer": "ipython3",
<<<<<<< HEAD
   "version": "3.8.3"
=======
   "version": "3.8.5"
>>>>>>> 060bb03e16024c678891d0daec334a4f9be39cd1
  }
 },
 "nbformat": 4,
 "nbformat_minor": 1
}

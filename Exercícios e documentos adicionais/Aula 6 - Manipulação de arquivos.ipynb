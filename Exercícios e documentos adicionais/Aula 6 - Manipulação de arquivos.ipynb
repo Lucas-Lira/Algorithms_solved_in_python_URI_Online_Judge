{
 "cells": [
  {
   "cell_type": "markdown",
   "metadata": {},
   "source": [
    "## Exemplo com um arquivo .fasta"
   ]
  },
  {
   "cell_type": "markdown",
   "metadata": {},
   "source": [
    "### I) Calcular a porcentagem de AT da sequência:"
   ]
  },
  {
   "cell_type": "code",
   "execution_count": null,
   "metadata": {},
   "outputs": [],
   "source": [
    "file = open('files/sequence.fasta', 'r')\n",
    "\n",
    "total = 0\n",
    "qtd_a_t = 0\n",
    "\n",
    "lines = file.readlines()\n",
    "del lines[0]\n",
    "\n",
    "for line in lines:\n",
    "    line = line.rstrip('\\n')\n",
    "    total += len(line)\n",
    "    qtd_a_t += line.count('A')\n",
    "    qtd_a_t += line.count('T')\n",
    "    \n",
    "print('Razão: %.2f' % (qtd_a_t/total*100))\n",
    "\n",
    "file.close()"
   ]
  },
  {
   "cell_type": "markdown",
   "metadata": {},
   "source": [
    "### OR"
   ]
  },
  {
   "cell_type": "code",
   "execution_count": null,
   "metadata": {},
   "outputs": [],
   "source": [
    "sequencia = ''\n",
    "contador = 1\n",
    "with open('files/sequence.fasta','r') as seq:\n",
    "      for linha in seq:\n",
    "        if contador > 1:\n",
    "            sequencia = sequencia + linha.rstrip()\n",
    "        contador = contador + 1\n",
    "\n",
    "comprimentoTotal = len(sequencia)\n",
    "quantA = sequencia.count('A')\n",
    "quantT = sequencia.count('T')\n",
    "quantAT = quantA + quantT\n",
    "razao = (quantAT/comprimentoTotal)*100\n",
    "\n",
    "print('Razão: %.2f' % razao)"
   ]
  },
  {
   "cell_type": "markdown",
   "metadata": {},
   "source": [
    "### II) Calcular a porcentagem de GC da sequência:\n",
    "- Similar GC Computing GC Content (Rosalind)"
   ]
  },
  {
   "cell_type": "code",
   "execution_count": null,
   "metadata": {},
   "outputs": [],
   "source": [
    "file = open('files/sequence.fasta', 'r')\n",
    "\n",
    "total = 0\n",
    "qtd_g_c = 0\n",
    "\n",
    "lines = file.readlines()\n",
    "del lines[0]\n",
    "\n",
    "for line in lines:\n",
    "    line = line.rstrip('\\n')\n",
    "    total += len(line)\n",
    "    qtd_g_c += line.count('G')\n",
    "    qtd_g_c += line.count('C')\n",
    "    \n",
    "print('Razão: %.2f' % (qtd_g_c/total*100))\n",
    "\n",
    "file.close()"
   ]
  },
  {
   "cell_type": "markdown",
   "metadata": {},
   "source": [
    "### OR"
   ]
  },
  {
   "cell_type": "code",
   "execution_count": null,
   "metadata": {},
   "outputs": [],
   "source": [
    "sequencia = ''\n",
    "contador = 1\n",
    "with open('files/sequence.fasta','r') as seq:\n",
    "      for linha in seq:\n",
    "        if contador > 1:\n",
    "            sequencia = sequencia + linha.rstrip()\n",
    "        contador = contador + 1\n",
    "\n",
    "comprimentoTotal = len(sequencia)\n",
    "quantCG = sequencia.count('G') + sequencia.count('C')\n",
    "porcentCG = (quantCG/comprimentoTotal)*100\n",
    "\n",
    "print('Razão %.2f' % porcentCG)"
   ]
  },
  {
   "cell_type": "markdown",
   "metadata": {},
   "source": [
    "### III) Transcrever DNA para RNA"
   ]
  },
  {
   "cell_type": "code",
   "execution_count": null,
   "metadata": {},
   "outputs": [],
   "source": [
    "file = open('files/sequence2.fasta', 'r')\n",
    "\n",
    "lines = file.readlines()\n",
    "del lines[0]\n",
    "\n",
    "content = ''\n",
    "\n",
    "for line in lines:\n",
    "    content += line.replace('T', 'U')\n",
    "    \n",
    "print('%s' % content)\n",
    "    \n",
    "file.close()"
   ]
  },
  {
   "cell_type": "markdown",
   "metadata": {},
   "source": [
    "### OR"
   ]
  },
  {
   "cell_type": "code",
   "execution_count": null,
   "metadata": {},
   "outputs": [],
   "source": [
    "sequencia = ''\n",
    "contador = 1\n",
    "with open('files/sequence2.fasta','r') as seq:\n",
    "      for linha in seq:\n",
    "        if contador > 1:\n",
    "            sequencia = sequencia + linha.rstrip()\n",
    "        contador = contador + 1\n",
    "        \n",
    "RNA = sequencia.replace('T','U')\n",
    "print(\"%s\" % RNA)"
   ]
  },
  {
   "cell_type": "markdown",
   "metadata": {},
   "source": [
    "### IV) Transcrever RNA para Proteína"
   ]
  },
  {
   "cell_type": "code",
   "execution_count": null,
   "metadata": {},
   "outputs": [],
   "source": [
    "codon_t = {\"UUU\":\"F\", \"UUC\":\"F\", \"UUA\":\"L\", \"UUG\":\"L\",\n",
    "    \"UCU\":\"S\", \"UCC\":\"S\", \"UCA\":\"S\", \"UCG\":\"S\",\n",
    "    \"UAU\":\"Y\", \"UAC\":\"Y\", \"UAA\":\"STOP\", \"UAG\":\"STOP\",\n",
    "    \"UGU\":\"C\", \"UGC\":\"C\", \"UGA\":\"STOP\", \"UGG\":\"W\",\n",
    "    \"CUU\":\"L\", \"CUC\":\"L\", \"CUA\":\"L\", \"CUG\":\"L\",\n",
    "    \"CCU\":\"P\", \"CCC\":\"P\", \"CCA\":\"P\", \"CCG\":\"P\",\n",
    "    \"CAU\":\"H\", \"CAC\":\"H\", \"CAA\":\"Q\", \"CAG\":\"Q\",\n",
    "    \"CGU\":\"R\", \"CGC\":\"R\", \"CGA\":\"R\", \"CGG\":\"R\",\n",
    "    \"AUU\":\"I\", \"AUC\":\"I\", \"AUA\":\"I\", \"AUG\":\"M\",\n",
    "    \"ACU\":\"T\", \"ACC\":\"T\", \"ACA\":\"T\", \"ACG\":\"T\",\n",
    "    \"AAU\":\"N\", \"AAC\":\"N\", \"AAA\":\"K\", \"AAG\":\"K\",\n",
    "    \"AGU\":\"S\", \"AGC\":\"S\", \"AGA\":\"R\", \"AGG\":\"R\",\n",
    "    \"GUU\":\"V\", \"GUC\":\"V\", \"GUA\":\"V\", \"GUG\":\"V\",\n",
    "    \"GCU\":\"A\", \"GCC\":\"A\", \"GCA\":\"A\", \"GCG\":\"A\",\n",
    "    \"GAU\":\"D\", \"GAC\":\"D\", \"GAA\":\"E\", \"GAG\":\"E\",\n",
    "    \"GGU\":\"G\", \"GGC\":\"G\", \"GGA\":\"G\", \"GGG\":\"G\"}\n",
    "\n",
    "file = open('files/sequence2.fasta', 'r')\n",
    "\n",
    "lines = file.readlines()\n",
    "del lines[0]\n",
    "\n",
    "content = ''\n",
    "\n",
    "for line in lines:\n",
    "    # DNA to RNA\n",
    "    line = line.replace('T', 'U')\n",
    "    content += line.rstrip('\\n')\n",
    "    \n",
    "protein = ''\n",
    "    \n",
    "# RNA to PROTEIN\n",
    "for i in range(0, len(content), 3):\n",
    "    codon = codon_t[content[i:i+3]] \n",
    "    if codon != 'STOP':\n",
    "        protein += codon\n",
    "    \n",
    "print('%s' % protein)\n",
    "    \n",
    "file.close()"
   ]
  }
 ],
 "metadata": {
  "kernelspec": {
   "display_name": "Python 3",
   "language": "python",
   "name": "python3"
  },
  "language_info": {
   "codemirror_mode": {
    "name": "ipython",
    "version": 3
   },
   "file_extension": ".py",
   "mimetype": "text/x-python",
   "name": "python",
   "nbconvert_exporter": "python",
   "pygments_lexer": "ipython3",
   "version": "3.8.3"
  },
  "latex_envs": {
   "LaTeX_envs_menu_present": true,
   "autoclose": false,
   "autocomplete": true,
   "bibliofile": "biblio.bib",
   "cite_by": "apalike",
   "current_citInitial": 1,
   "eqLabelWithNumbers": true,
   "eqNumInitial": 1,
   "hotkeys": {
    "equation": "Ctrl-E",
    "itemize": "Ctrl-I"
   },
   "labels_anchors": false,
   "latex_user_defs": false,
   "report_style_numbering": false,
   "user_envs_cfg": false
  },
  "livereveal": {
   "theme": "solarized",
   "transition": "slide"
  },
  "toc": {
   "nav_menu": {},
   "number_sections": true,
   "sideBar": true,
   "skip_h1_title": false,
   "toc_cell": true,
   "toc_position": {},
   "toc_section_display": "block",
   "toc_window_display": false
  }
 },
 "nbformat": 4,
 "nbformat_minor": 2
}

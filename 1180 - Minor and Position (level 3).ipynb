{
 "cells": [
  {
   "cell_type": "markdown",
   "metadata": {},
   "source": [
    "# With Numpy"
   ]
  },
  {
   "cell_type": "code",
   "execution_count": null,
   "metadata": {},
   "outputs": [],
   "source": [
    "import numpy as np\n",
    "\n",
    "try:\n",
    "    \n",
    "    n = int(input())\n",
    "\n",
    "    vector = np.array(input().split(), 'int')\n",
    "\n",
    "    if vector.size >= n:\n",
    "\n",
    "        vector = vector[:n]\n",
    "\n",
    "        print('Menor valor: %d' % vector.min())\n",
    "        print('Posicao: %d' % vector.argmin())\n",
    "\n",
    "    else:\n",
    "        print('You must enter all \"N\" values')\n",
    "    \n",
    "except:\n",
    "    print('Application error')"
   ]
  },
  {
   "cell_type": "markdown",
   "metadata": {},
   "source": [
    "# URI Solution"
   ]
  },
  {
   "cell_type": "code",
   "execution_count": null,
   "metadata": {},
   "outputs": [],
   "source": [
    "try:\n",
    "    \n",
    "    n = int(input())\n",
    "\n",
    "    vector = input().split()\n",
    "\n",
    "    if n > 0 and n < 1000 and len(vector) >= n:\n",
    "\n",
    "        lower_value = int(vector[0]) \n",
    "        position = 0\n",
    "        \n",
    "        for i in range(1, n):\n",
    "            current_value = int(vector[i])\n",
    "            if current_value < lower_value:\n",
    "                lower_value = current_value\n",
    "                position = i\n",
    "        \n",
    "        print('Menor valor: %d' % lower_value)\n",
    "        print('Posicao: %d' % position)\n",
    "\n",
    "except:\n",
    "    print('Application error')"
   ]
  }
 ],
 "metadata": {
  "kernelspec": {
   "display_name": "Python 3",
   "language": "python",
   "name": "python3"
  },
  "language_info": {
   "codemirror_mode": {
    "name": "ipython",
    "version": 3
   },
   "file_extension": ".py",
   "mimetype": "text/x-python",
   "name": "python",
   "nbconvert_exporter": "python",
   "pygments_lexer": "ipython3",
   "version": "3.8.3"
  }
 },
 "nbformat": 4,
 "nbformat_minor": 4
}

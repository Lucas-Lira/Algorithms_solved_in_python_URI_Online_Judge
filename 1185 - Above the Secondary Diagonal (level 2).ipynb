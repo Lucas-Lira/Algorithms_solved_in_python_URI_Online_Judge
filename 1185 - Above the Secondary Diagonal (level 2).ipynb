{
 "cells": [
  {
   "cell_type": "markdown",
   "metadata": {},
   "source": [
    "# With Numpy"
   ]
  },
  {
   "cell_type": "code",
   "execution_count": 9,
   "metadata": {},
   "outputs": [
    {
     "name": "stdout",
     "output_type": "stream",
     "text": [
      "a\n",
      "(array([0, 1, 1, 2, 2, 2, 3, 3, 3, 3], dtype=int64), array([0, 0, 1, 0, 1, 2, 0, 1, 2, 3], dtype=int64))\n"
     ]
    }
   ],
   "source": [
    "import numpy as np\n",
    "\n",
    "c = input().upper()\n",
    "\n",
    "mat = np.random.uniform(0., 1000., (4, 4))\n",
    "# mat = np.tril_indices(4) #tril(mat, -1)\n",
    "\n",
    "np.\n",
    "\n",
    "print(mat)\n"
   ]
  }
 ],
 "metadata": {
  "kernelspec": {
   "display_name": "Python 3",
   "language": "python",
   "name": "python3"
  },
  "language_info": {
   "codemirror_mode": {
    "name": "ipython",
    "version": 3
   },
   "file_extension": ".py",
   "mimetype": "text/x-python",
   "name": "python",
   "nbconvert_exporter": "python",
   "pygments_lexer": "ipython3",
   "version": "3.8.3"
  }
 },
 "nbformat": 4,
 "nbformat_minor": 4
}

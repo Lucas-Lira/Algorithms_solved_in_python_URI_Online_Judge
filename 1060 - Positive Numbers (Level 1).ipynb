{
 "cells": [
  {
   "cell_type": "code",
   "execution_count": null,
   "metadata": {},
   "outputs": [],
   "source": [
    "try:\n",
    "    positive_quantities = 0\n",
    "    i = 0\n",
    "    while i < 6:\n",
    "        value = float(input())\n",
    "        i+=1\n",
    "        if value > 0:\n",
    "            positive_quantities += 1\n",
    "        elif value == 0:\n",
    "            i-=1\n",
    "    print('%d positive values' % positive_quantities)\n",
    "except:\n",
    "    print('Invalid values')"
   ]
  }
 ],
 "metadata": {
  "kernelspec": {
   "display_name": "Python 3",
   "language": "python",
   "name": "python3"
  },
  "language_info": {
   "codemirror_mode": {
    "name": "ipython",
    "version": 3
   },
   "file_extension": ".py",
   "mimetype": "text/x-python",
   "name": "python",
   "nbconvert_exporter": "python",
   "pygments_lexer": "ipython3",
   "version": "3.8.3"
  }
 },
 "nbformat": 4,
 "nbformat_minor": 4
}

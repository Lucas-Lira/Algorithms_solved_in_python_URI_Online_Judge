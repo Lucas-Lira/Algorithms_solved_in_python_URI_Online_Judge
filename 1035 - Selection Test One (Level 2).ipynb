{
 "cells": [
  {
   "cell_type": "code",
   "execution_count": null,
   "metadata": {},
   "outputs": [],
   "source": [
    "try:\n",
    "    \n",
    "    a, b, c, d = input().split()\n",
    "    a = int(a)\n",
    "    b = int(b)\n",
    "    c = int(c)\n",
    "    d = int(d)\n",
    "    \n",
    "    answer = 'Valores nao aceitos'\n",
    "    \n",
    "    if b > c and d > a:\n",
    "        if (c + d) > (a + b):\n",
    "            if c > 0 and d > 0:\n",
    "                if a % 2 == 0: \n",
    "                    answer = 'Valores aceitos'\n",
    "                    \n",
    "    print(answer)\n",
    "    \n",
    "except:\n",
    "    print('Invalid values')"
   ]
  }
 ],
 "metadata": {
  "kernelspec": {
   "display_name": "Python 3",
   "language": "python",
   "name": "python3"
  },
  "language_info": {
   "codemirror_mode": {
    "name": "ipython",
    "version": 3
   },
   "file_extension": ".py",
   "mimetype": "text/x-python",
   "name": "python",
   "nbconvert_exporter": "python",
   "pygments_lexer": "ipython3",
   "version": "3.8.3"
  }
 },
 "nbformat": 4,
 "nbformat_minor": 4
}

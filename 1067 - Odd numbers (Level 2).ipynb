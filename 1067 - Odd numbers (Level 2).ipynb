{
 "cells": [
  {
   "cell_type": "code",
   "execution_count": null,
   "metadata": {},
   "outputs": [],
   "source": [
    "try:\n",
    "    \n",
    "    x = int(input())\n",
    "    \n",
    "    if x >= 1 and x <= 1000:\n",
    "        for i in range(1, x + 1, 2):\n",
    "            if i % 2 != 0:\n",
    "                print(i)\n",
    "    else:\n",
    "        print('Invalid value')\n",
    "    \n",
    "except:\n",
    "    print('Invalid value')"
   ]
  }
 ],
 "metadata": {
  "kernelspec": {
   "display_name": "Python 3",
   "language": "python",
   "name": "python3"
  },
  "language_info": {
   "codemirror_mode": {
    "name": "ipython",
    "version": 3
   },
   "file_extension": ".py",
   "mimetype": "text/x-python",
   "name": "python",
   "nbconvert_exporter": "python",
   "pygments_lexer": "ipython3",
   "version": "3.8.3"
  }
 },
 "nbformat": 4,
 "nbformat_minor": 4
}

{
 "cells": [
  {
   "cell_type": "markdown",
   "metadata": {},
   "source": [
    "# With Numpy"
   ]
  },
  {
   "cell_type": "code",
   "execution_count": null,
   "metadata": {},
   "outputs": [],
   "source": [
    "import numpy as np\n",
    "\n",
    "try:\n",
    "\n",
    "    operation_column = int(input())\n",
    "    operation = input().upper()\n",
    "    \n",
    "    mat = np.random.uniform(0., 1000., (2, 2))\n",
    "    \n",
    "    if operation == 'S':\n",
    "        print('%.1f' % np.sum(mat[:, operation_column]))\n",
    "    elif operation == 'M':\n",
    "        print('%.1f' % np.average(mat[:, operation_column]))\n",
    "    \n",
    "except:\n",
    "    print('Application error')"
   ]
  },
  {
   "cell_type": "markdown",
   "metadata": {},
   "source": [
    "# URI Solution"
   ]
  },
  {
   "cell_type": "code",
   "execution_count": null,
   "metadata": {},
   "outputs": [],
   "source": [
    "try:\n",
    "\n",
    "    operation_column = int(input())\n",
    "    operation = input().upper()\n",
    "    \n",
    "    if operation_column >= 0 and operation_column <= 11:\n",
    "    \n",
    "        m = []\n",
    "        \n",
    "        for line in range(12):\n",
    "            m.append([])\n",
    "            for column in range(12):\n",
    "                m[line].append(float(input()))\n",
    "                \n",
    "        accumulator = 0\n",
    "        \n",
    "        for i in range(12):\n",
    "            accumulator += m[i][operation_column]\n",
    "             \n",
    "        if operation == 'S':\n",
    "            print('%.1f' % accumulator)\n",
    "        elif operation == 'M':\n",
    "            print('%.1f' % (accumulator / 12))\n",
    "    \n",
    "except:\n",
    "    print('Application error')"
   ]
  }
 ],
 "metadata": {
  "kernelspec": {
   "display_name": "Python 3",
   "language": "python",
   "name": "python3"
  },
  "language_info": {
   "codemirror_mode": {
    "name": "ipython",
    "version": 3
   },
   "file_extension": ".py",
   "mimetype": "text/x-python",
   "name": "python",
   "nbconvert_exporter": "python",
   "pygments_lexer": "ipython3",
   "version": "3.8.5"
  }
 },
 "nbformat": 4,
 "nbformat_minor": 4
}
